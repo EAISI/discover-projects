{
 "cells": [
  {
   "cell_type": "code",
   "execution_count": 14,
   "metadata": {},
   "outputs": [],
   "source": [
    "import pandas as pd\n",
    "from ISLP import load_data\n",
    "\n",
    "\n",
    "Caravan = load_data(\"Caravan\")\n",
    "Caravan.columns\n",
    "\n",
    "# output training dataset\n",
    "Caravan.to_parquet(\"caravan-train.parquet\")\n",
    "Caravan.to_csv(\"caravan-train.csv\")\n",
    "\n",
    "# add separate test dataset with 4,000 records\n",
    "# from https://kdd.ics.uci.edu/databases/tic/tic.html\n",
    "\n",
    "test = pd.read_csv(\n",
    "    \"http://kdd.ics.uci.edu/databases/tic/ticeval2000.txt\",\n",
    "    sep=\"\\t\",\n",
    "    names=Caravan.columns[:-1],\n",
    ").join(\n",
    "    pd.read_csv(\n",
    "        \"http://kdd.ics.uci.edu/databases/tic/tictgts2000.txt\", names=[\"Purchase\"]\n",
    "    )\n",
    ")\n",
    "test.to_parquet(\"caravan-test.parquet\")\n",
    "test.to_csv(\"caravan-test.csv\")"
   ]
  }
 ],
 "metadata": {
  "kernelspec": {
   "display_name": "Python 3",
   "language": "python",
   "name": "python3"
  },
  "language_info": {
   "codemirror_mode": {
    "name": "ipython",
    "version": 3
   },
   "file_extension": ".py",
   "mimetype": "text/x-python",
   "name": "python",
   "nbconvert_exporter": "python",
   "pygments_lexer": "ipython3",
   "version": "3.11.3"
  }
 },
 "nbformat": 4,
 "nbformat_minor": 2
}
