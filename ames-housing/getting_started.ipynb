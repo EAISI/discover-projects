{
 "cells": [
  {
   "cell_type": "markdown",
   "metadata": {},
   "source": [
    "# Ames Housing - Getting Started\n",
    "Pieter Overdevest  \n",
    "2025-02-01\n",
    "\n",
    "For suggestions/questions regarding this notebook, please contact\n",
    "[Pieter Overdevest](https://www.linkedin.com/in/pieteroverdevest/)\n",
    "(pieter@innovatewithdata.nl).\n",
    "\n",
    "### How to work with this Jupyter Notebook yourself?\n",
    "\n",
    "- Get a copy of the repository ('repo') [discover-projects](https://github.com/EAISI/discover-projects) from EAISI's GitHub site. This can be done by either cloning the repo or simply downloading the zip-file. Both options are explained in this Youtube video by [Coderama](https://www.youtube.com/watch?v=EhxPBMQFCaI).\n",
    "\n",
    "- Copy this notebook to the `Code` subfolder in your project folder.\n",
    "\n",
    "### Use of ChatGPT, GitHub Copilot, ..\n",
    "\n",
    "Feel free to use platforms like ChatGPT or GitHub Copilot. Don't simply copy the given code, but critically evaluate the given code. Look for the simplest solution and one that use default packages like Pandas (or Polars) and not one that requires specific libraries. You want to keep the dependencies of your script on packages as low as possible."
   ]
  },
  {
   "cell_type": "markdown",
   "metadata": {},
   "source": [
    "### Import packages\n",
    "\n",
    "A package is simply a folder containing modules and a '\\_\\_init\\_\\_.py' file, also referred to as a 'dunder init' file ('dunder' referring to *d*ouble *under*scores). A module is just a Python file (*.py) holding functions and variables. The dunder init file is what makes the folder callable as a package. You can include Python code in the dunder init file that will be run when the package is imported. We can import complete packages or only specific functions from a package. In the first case we start with 'import' and in the second case we start with 'from'.\n",
    "\n",
    "As part of a solution to an exercise, we may need to import specific third party package. These packages will be imported with the solutions. Of some packages we tend to use many functions. In those cases, we simply load the whole package. Typically, we do this under an alias to make it simpler (shorter) to refer to a function in the concerned package.\n",
    "\n",
    "Here, we import our first packages.."
   ]
  },
  {
   "cell_type": "code",
   "execution_count": 1,
   "metadata": {},
   "outputs": [],
   "source": [
    "import pandas as pd     # Data handling.\n",
    "import polars as pl     # Data handling ('Blazingly fast DataFrames') and is a drop-in replacement for pandas."
   ]
  },
  {
   "attachments": {},
   "cell_type": "markdown",
   "metadata": {},
   "source": [
    "### Exercise 1 - Load the 'Ames Housing' dataset"
   ]
  },
  {
   "attachments": {},
   "cell_type": "markdown",
   "metadata": {},
   "source": [
    "**Loading a local copy of AmesHousing.csv from your computer**\n",
    "\n",
    "Both Pandas and Polars have a function `read_csv()` to read a CSV from your local computer."
   ]
  },
  {
   "cell_type": "code",
   "execution_count": 7,
   "metadata": {},
   "outputs": [],
   "source": [
    "# Load data from local drive using Pandas.\n",
    "df_pd_orig = pd.read_csv('../Data/AmesHousing.csv')\n",
    "\n",
    "# Load data from local drive using Polars.\n",
    "df_pl_orig = pl.read_csv('../Data/AmesHousing.csv')"
   ]
  },
  {
   "cell_type": "markdown",
   "metadata": {},
   "source": [
    "### Tips"
   ]
  },
  {
   "cell_type": "markdown",
   "metadata": {},
   "source": [
    "1.  To add a script or text cell, hover your mouse below or above an existing cell and click on '+ Code' (script) or '+ Markdown' (text) that appears. A new cell will be added below or above the cell you have selected. \n",
    "\n",
    "2. Do not put all your Python script in one Python cell. Split your script in multiple Code cells. This makes it easier to test parts of your script step by step.\n",
    "\n",
    "3. Insert Markdown cells between de Code cells to explain the steps you are taking. Start a sentence with '# ', '## ', '### ', etc. to create a title, subtitle, etc.\n",
    "\n",
    "4. Comment-out code:\n",
    "-   On Windows, use CTRL + /\n",
    "-   On Mac, use Command + /\n",
    "\n",
    "5.  In case you use the same code more often, it is a good idea to create a function. This makes your code more readable and easier to maintain. Below a template that you can use to create a function, including a doc string."
   ]
  },
  {
   "cell_type": "markdown",
   "metadata": {},
   "source": [
    "### Function template"
   ]
  },
  {
   "cell_type": "code",
   "execution_count": null,
   "metadata": {},
   "outputs": [],
   "source": [
    "def f_dummy():\n",
    "\n",
    "    \"\"\"\n",
    "    <short description>.\n",
    "\n",
    "    Parameters\n",
    "    ----------\n",
    "    <name> : <type>\n",
    "        <short description>.\n",
    "\n",
    "    <name> : <type>\n",
    "        <short description>.\n",
    "\n",
    "    Returns\n",
    "    -------\n",
    "    <type>\n",
    "        <short description>.\n",
    "    \"\"\" \n",
    "\n",
    "    # Main script of your function.\n",
    "\n",
    "    return <return value>"
   ]
  }
 ],
 "metadata": {
  "kernelspec": {
   "display_name": "ve_macbook",
   "language": "python",
   "name": "python3"
  },
  "language_info": {
   "codemirror_mode": {
    "name": "ipython",
    "version": 3
   },
   "file_extension": ".py",
   "mimetype": "text/x-python",
   "name": "python",
   "nbconvert_exporter": "python",
   "pygments_lexer": "ipython3",
   "version": "3.10.13"
  },
  "orig_nbformat": 4
 },
 "nbformat": 4,
 "nbformat_minor": 2
}
